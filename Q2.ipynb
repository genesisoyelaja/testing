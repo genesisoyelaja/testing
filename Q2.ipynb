{
  "nbformat": 4,
  "nbformat_minor": 0,
  "metadata": {
    "colab": {
      "name": "Q2",
      "provenance": [],
      "collapsed_sections": []
    },
    "kernelspec": {
      "name": "python3",
      "display_name": "Python 3"
    }
  },
  "cells": [
    {
      "cell_type": "code",
      "metadata": {
        "colab": {
          "base_uri": "https://localhost:8080/"
        },
        "id": "BcLT7TUbfa5Z",
        "outputId": "22118b58-c0ff-4599-aa06-f944c400ac89"
      },
      "source": [
        "print(\"##########################\")\n",
        "print(\"WELCOME TO THE DBS CONSOLE\")\n",
        "print(\"##########################\")\n",
        "print(\"\\n\")\n",
        "\n",
        "username= input(\"Please enter your username  in the format domain\\\\username: \")\n",
        "result = username.split(\"\\\\\")\n",
        "#print (result)\n",
        "\n",
        "print(\"Domain: \", result[0])\n",
        "print(\"Username: \", result[1])"
      ],
      "execution_count": 2,
      "outputs": [
        {
          "output_type": "stream",
          "text": [
            "##########################\n",
            "WELCOME TO THE DBS CONSOLE\n",
            "##########################\n",
            "\n",
            "\n",
            "Please enter your username  in the format domain\\username: DBS\\7451222\n",
            "Domain:  DBS\n",
            "Username:  7451222\n"
          ],
          "name": "stdout"
        }
      ]
    }
  ]
}