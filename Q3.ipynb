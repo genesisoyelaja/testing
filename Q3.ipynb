{
  "nbformat": 4,
  "nbformat_minor": 0,
  "metadata": {
    "colab": {
      "name": "CA Q3.ipynb",
      "provenance": [],
      "collapsed_sections": []
    },
    "kernelspec": {
      "name": "python3",
      "display_name": "Python 3"
    }
  },
  "cells": [
    {
      "cell_type": "code",
      "metadata": {
        "colab": {
          "base_uri": "https://localhost:8080/"
        },
        "id": "xI4YT4yooKGq",
        "outputId": "a10ef878-7214-4436-fb50-d10e26f8eeaa"
      },
      "source": [
        "print(\"###########################\")\n",
        "print(\"WELCOME TO DBS\")\n",
        "print(\"###########################\")\n",
        "\n",
        "list1 = []\n",
        "freq = {}\n",
        "num = int(input(\"\\n1Input the number of elements to be stored in the list:  \"))\n",
        "print(\"Input the %d  elements in the list\" % num)\n",
        "for i in range(0, num):\n",
        "  print(\"Element - %d\" %i, end=\": \")\n",
        "  num_list = int(input())\n",
        "  list1.append(num_list)\n",
        "for j in list1: \n",
        "  if j in freq:\n",
        "    freq[j] += 1\n",
        "  else:\n",
        "    freq[j] = 1\n",
        "print(\"\\n The frequency of all elements of the list: \\n\")\n",
        "for i in freq:\n",
        "  print(\"%d occurs %d times\" %(i, freq[i]))\n",
        "#print (freq)\n",
        "#print(list1)\n"
      ],
      "execution_count": 5,
      "outputs": [
        {
          "output_type": "stream",
          "text": [
            "###########################\n",
            "WELCOME TO DBS\n",
            "###########################\n",
            "\n",
            "1Input the number of elements to be stored in the list:  5\n",
            "Input the 5  elements in the list\n",
            "Element - 0: 1\n",
            "Element - 1: 1\n",
            "Element - 2: 2\n",
            "Element - 3: 3\n",
            "Element - 4: 3\n",
            "\n",
            " The frequency of all elements of the list: \n",
            "\n",
            "1 occurs 2 times\n",
            "2 occurs 1 times\n",
            "3 occurs 2 times\n"
          ],
          "name": "stdout"
        }
      ]
    }
  ]
}