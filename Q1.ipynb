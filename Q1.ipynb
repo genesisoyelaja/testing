{
  "nbformat": 4,
  "nbformat_minor": 0,
  "metadata": {
    "colab": {
      "name": "Q1-CA",
      "provenance": [],
      "collapsed_sections": []
    },
    "kernelspec": {
      "name": "python3",
      "display_name": "Python 3"
    }
  },
  "cells": [
    {
      "cell_type": "code",
      "metadata": {
        "colab": {
          "base_uri": "https://localhost:8080/"
        },
        "id": "220-XQMO1aUP",
        "outputId": "d0bbe772-a7ad-44d8-c472-5ccc5b9ba8db"
      },
      "source": [
        "name = str(input(\"Employee Name: \"))\n",
        "number= (input(\"Employee Number: \"))\n",
        "week_ending=input(\"Week ending date(YYYY/MM/DD): \")\n",
        "hours_worked = float(input(\"No of hours worked: \"))\n",
        "hourly_rate = float(input(\"Payrate per hour: \"))\n",
        "stan_taxrate = float(input(\"Standard tax rate% : \")) / 100\n",
        "over_taxrate = float(input(\"Overtime tax rate% : \")) / 100\n",
        "if hours_worked < 37.5:\n",
        "  overtime = 0.0\n",
        "  overtime_pay= overtime * hourly_rate\n",
        "  normal_pay = hours_worked * hourly_rate\n",
        "  gross_pay = normal_pay + overtime_pay\n",
        "  \n",
        "  \n",
        "else:\n",
        "  overtime = hours_worked - 37.5\n",
        "  overtime_taxrate=hourly_rate * 1.5\n",
        "  hours_worked = 37.5\n",
        "  overtime_pay = overtime * (hourly_rate * 1.5)\n",
        "  normal_pay = hours_worked * hourly_rate\n",
        "  gross_pay = normal_pay + overtime_pay\n",
        "  overtime_deduc = over_taxrate * overtime_pay\n",
        "  norm_deduc =  stan_taxrate * normal_pay\n",
        "  total_deduction = norm_deduc + overtime_deduc\n",
        "  net_pay = gross_pay - total_deduction\n",
        "print(\"\\n\\n\\t\\t\\t\\t Payslip\")\n",
        "print(\"WEEK_ENDING:\",week_ending)\n",
        "print(\"Employee:\",name)\n",
        "print(\"Employee Number:\",number)\n",
        "print(\"\\t\\t\\t Earnings\\t\\t Deductions\")\n",
        "print(\"\\t\\t\\t Hours\\t Rate\\t Total\")\n",
        "print(\"Hours (normal)\\t\\t\", hours_worked, \"\\t\", hourly_rate, \"\\t\", normal_pay,    \"Tax @ 20%\", stan_taxrate * normal_pay)\n",
        "print(\"Hours (overtime)\\t\", overtime, \"\\t\", overtime_taxrate, \"\\t\", overtime_pay, \"Tax @ 50%\", over_taxrate * overtime_pay)\n",
        "print(\"\\n\\t\\t\\tTotal Pay:\\t\",\"\\t\\t\", gross_pay)\n",
        "print(\"\\t\\t\\tTotal deductions: \",\"\\t\\t\", total_deduction)\n",
        "print(\"\\t\\t\\tNet Pay: \",\"\\t\\t\\t\", net_pay)      "
      ],
      "execution_count": 43,
      "outputs": [
        {
          "output_type": "stream",
          "text": [
            "Employee Name: Mark Bate\n",
            "Employee Number: 123456789A\n",
            "Week ending date(YYYY/MM/DD): 2018/01/26\n",
            "No of hours worked: 42.5\n",
            "Payrate per hour: 10.5\n",
            "Standard tax rate% : 20\n",
            "Overtime tax rate% : 50\n",
            "\n",
            "\n",
            "\t\t\t\t Payslip\n",
            "WEEK_ENDING: 2018/01/26\n",
            "Employee: Mark Bate\n",
            "Employee Number: 123456789A\n",
            "\t\t\t Earnings\t\t Deductions\n",
            "\t\t\t Hours\t Rate\t Total\n",
            "Hours (normal)\t\t 37.5 \t 10.5 \t 393.75 Tax @ 20% 78.75\n",
            "Hours (overtime)\t 5.0 \t 15.75 \t 78.75 Tax @ 50% 39.375\n",
            "\n",
            "\t\t\tTotal Pay:\t \t\t 472.5\n",
            "\t\t\tTotal deductions:  \t\t 118.125\n",
            "\t\t\tNet Pay:  \t\t\t 354.375\n"
          ],
          "name": "stdout"
        }
      ]
    }
  ]
}